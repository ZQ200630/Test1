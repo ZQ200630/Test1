{
 "cells": [
  {
   "cell_type": "code",
   "execution_count": 19,
   "metadata": {},
   "outputs": [
    {
     "name": "stdout",
     "output_type": "stream",
     "text": [
      "['6F 9E 98 00 ', '11 22 33 44 ']\n",
      "10002031\n",
      "1144201745\n"
     ]
    }
   ],
   "source": [
    "# 文件读取\n",
    "with open('temp.txt', 'r') as f:\n",
    "    text = f.read()\n",
    "\n",
    "# 判断文末是否有多余的空格，没有就添加\n",
    "if text[-1] != ' ':\n",
    "    text += ' '\n",
    "\n",
    "# 字符串切片\n",
    "temp = [text[i:i+12] for i in range(0, len(text), 12)]\n",
    "\n",
    "print(temp)\n",
    "\n",
    "# 分别读取四个Byte，再组合为一整个十进制数\n",
    "for index, i in enumerate(temp, start=0):\n",
    "    # 16 base str to 16 base int\n",
    "    byte0 = int(temp[index][0:2], base=16)\n",
    "    byte1 = int(temp[index][3:5], base=16)\n",
    "    byte2 = int(temp[index][6:8], base=16)\n",
    "    byte3 = int(temp[index][9:11], base=16)\n",
    "    result = (byte3 << 24) + (byte2 << 16) + (byte1 << 8) + byte0\n",
    "    print(result)"
   ]
  },
  {
   "cell_type": "code",
   "execution_count": null,
   "metadata": {},
   "outputs": [],
   "source": []
  }
 ],
 "metadata": {
  "kernelspec": {
   "display_name": "Python 3.8.13 ('SignalProcessing')",
   "language": "python",
   "name": "python3"
  },
  "language_info": {
   "codemirror_mode": {
    "name": "ipython",
    "version": 3
   },
   "file_extension": ".py",
   "mimetype": "text/x-python",
   "name": "python",
   "nbconvert_exporter": "python",
   "pygments_lexer": "ipython3",
   "version": "3.8.13"
  },
  "orig_nbformat": 4,
  "vscode": {
   "interpreter": {
    "hash": "7e4fc30e670bd184bad4825185a6d37dc921ce3f28aa201343078b676df29cf5"
   }
  }
 },
 "nbformat": 4,
 "nbformat_minor": 2
}
