{
 "cells": [
  {
   "cell_type": "code",
   "execution_count": 95,
   "metadata": {},
   "outputs": [],
   "source": [
    "import csv\n",
    "import numpy as np\n"
   ]
  },
  {
   "cell_type": "code",
   "execution_count": 96,
   "metadata": {},
   "outputs": [],
   "source": [
    "argument_file = \"Hemoglobin.csv\"\n",
    "lambda_1 = 600\n",
    "lambda_2 = 700\n",
    "input1 = 100\n",
    "input2 = 10"
   ]
  },
  {
   "cell_type": "code",
   "execution_count": 97,
   "metadata": {},
   "outputs": [],
   "source": [
    "# Read the data from the file and convert it to np.array\n",
    "Hemoglobin_data_String = []\n",
    "with open(argument_file) as csvfile:\n",
    "    csv_reader = csv.reader(csvfile)  # 使用csv.reader读取csvfile中的文件\n",
    "    for row in csv_reader:  # 将csv 文件中的数据保存到birth_data中\n",
    "        Hemoglobin_data_String.append(row)\n",
    "\n",
    "Hemoglobin_data = [[float(x) for x in row] for row in Hemoglobin_data_String]  # 将数据从string形式转换为float形式\n",
    "Hemoglobin_data = np.array(Hemoglobin_data)  # 将list数组转化成array数组便于查看数据结构"
   ]
  },
  {
   "cell_type": "code",
   "execution_count": 98,
   "metadata": {},
   "outputs": [],
   "source": [
    "index1 = np.argwhere(Hemoglobin_data[:, 0] == lambda_1)  # 找到lambda_1的位置\n",
    "index2 = np.argwhere(Hemoglobin_data[:, 0] == lambda_2)  # 找到lambda_2的位置\n",
    "\n",
    "E_ox_1 = Hemoglobin_data[index1, 1]  # 找到lambda_1的吸收值\n",
    "E_ox_2 = Hemoglobin_data[index2, 1]  # 找到lambda_2的吸收值\n",
    "E_de_1 = Hemoglobin_data[index1, 2]  # 找到lambda_1的吸收值\n",
    "E_de_2 = Hemoglobin_data[index2, 2]  # 找到lambda_2的吸收值\n",
    "\n",
    "# 2 x 2 Matrix\n",
    "Calculate_Matrix = np.array([[E_ox_1, E_de_1], [E_ox_2, E_de_2]])\n",
    "Input_Vector = np.array([[input1/np.log(10)], [input2/np.log(10)]])\n",
    "\n",
    "Calculate_Matrix = Calculate_Matrix.reshape(2, 2)\n",
    "\n",
    "# Calculate the result\n",
    "Result = np.linalg.solve(Calculate_Matrix, Input_Vector)\n"
   ]
  },
  {
   "cell_type": "code",
   "execution_count": 99,
   "metadata": {},
   "outputs": [
    {
     "name": "stdout",
     "output_type": "stream",
     "text": [
      "[0.0095484]\n",
      "[0.00087718]\n",
      "SO2 = 91.59 %\n",
      "Hb = 0.010426 g/L\n"
     ]
    }
   ],
   "source": [
    "SO2 = Result[0] / (Result[0] + Result[1]) * 100\n",
    "SO2 = SO2[0]\n",
    "Hb = Result[0] + Result[1]\n",
    "Hb = Hb[0]\n",
    "\n",
    "print(Result[0])\n",
    "print(Result[1])\n",
    "print('SO2 = %.2f %%' % SO2)\n",
    "print('Hb = %.6f g/L' % Hb)"
   ]
  },
  {
   "cell_type": "code",
   "execution_count": null,
   "metadata": {},
   "outputs": [],
   "source": []
  }
 ],
 "metadata": {
  "kernelspec": {
   "display_name": "Python 3.8.13 ('SignalProcessing')",
   "language": "python",
   "name": "python3"
  },
  "language_info": {
   "codemirror_mode": {
    "name": "ipython",
    "version": 3
   },
   "file_extension": ".py",
   "mimetype": "text/x-python",
   "name": "python",
   "nbconvert_exporter": "python",
   "pygments_lexer": "ipython3",
   "version": "3.8.13"
  },
  "orig_nbformat": 4,
  "vscode": {
   "interpreter": {
    "hash": "7e4fc30e670bd184bad4825185a6d37dc921ce3f28aa201343078b676df29cf5"
   }
  }
 },
 "nbformat": 4,
 "nbformat_minor": 2
}
